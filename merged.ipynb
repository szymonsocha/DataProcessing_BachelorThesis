{
 "cells": [
  {
   "cell_type": "code",
   "execution_count": 57,
   "metadata": {},
   "outputs": [],
   "source": [
    "import pandas as pd\n",
    "from datetime import datetime"
   ]
  },
  {
   "cell_type": "code",
   "execution_count": 58,
   "metadata": {},
   "outputs": [],
   "source": [
    "kraje = ['global', 'us', 'gb', 'ae', 'ar', 'at', 'au', 'be', 'bg', 'bo', 'br', 'ca', 'ch', 'cl',\n",
    "         'co', 'cr', 'cy', 'cz', 'de', 'dk', 'do', 'ec', 'ee', 'eg', 'es', 'fi', 'fr', 'gr',\n",
    "         'gt', 'hk', 'hn', 'hu', 'id', 'ie', 'il', 'in', 'is', 'it', 'jp', 'kr', 'lt', 'lu',\n",
    "         'lv', 'ma', 'mx', 'my', 'ni', 'nl', 'no', 'nz', 'pa', 'pe', 'ph', 'pl', 'pt', 'py',\n",
    "         'ro', 'ru', 'sa', 'se', 'sg', 'sk', 'sv', 'th', 'tr', 'tw', 'ua', 'uy', 'vn', 'za']"
   ]
  },
  {
   "cell_type": "code",
   "execution_count": 59,
   "metadata": {},
   "outputs": [],
   "source": [
    "kraje_rozw = ['global', 'United States', 'United Kingdom', 'United Arab Emirates', 'Argentina',\n",
    "              'Austria', 'Australia', 'Belgium', 'Bulgaria', 'Bolivia', 'Brazil', 'Canada',\n",
    "              'Switzerland', 'Chile', 'Colombia', 'Costa Rica', 'Cyprus', 'Czechia', 'Germany',\n",
    "              'Denmark', 'Dominican Republic', 'Ecuador', 'Estonia', 'Egypt', 'Spain', 'Finland',\n",
    "              'France', 'Greece', 'Guatemala', 'Hong Kong', 'Honduras', 'Hungary', 'Indonesia',\n",
    "              'Ireland', 'Israel', 'India', 'Iceland', 'Italy', 'Japan', 'South Korea', 'Lithuania',\n",
    "              'Luxembourg', 'Latvia', 'Morocco', 'Mexico', 'Malaysia', 'Nicaragua', 'Netherlands',\n",
    "              'Norway', 'New Zealand', 'Panama', 'Peru', 'Philippines', 'Poland', 'Portugal',\n",
    "              'Paraguay', 'Romania', 'Russia', 'Saudi Arabia', 'Sweden', 'Singapore', 'Slovakia',\n",
    "              'El Salvador', 'Thailand', 'Turkey', 'Taiwan', 'Ukraine', 'Uruguay', 'Vietnam', 'South Africa']"
   ]
  },
  {
   "cell_type": "code",
   "execution_count": 60,
   "metadata": {},
   "outputs": [],
   "source": [
    "high_income = ['Greece', 'Panama', 'Poland', 'Australia', 'Portugal', 'Austria', 'Hungary', 'Iceland', 'Qatar', 'Bahrain', 'Ireland', 'Romania',\n",
    "'Belgium', 'Israel', 'Saudi Arabia', 'Italy', 'Japan', 'Singapore', 'South Korea', 'Canada', 'Kuwait', 'Slovakia',\n",
    "'Latvia', 'Slovenia', 'Liechtenstein', 'Spain', 'Chile', 'Lithuania', 'Croatia', 'Luxembourg', 'Sweden',\n",
    "'Cyprus', 'Malta', 'Switzerland', 'Hong Kong', 'Czechia', 'Taiwan', 'Denmark', 'Monaco', 'Estonia', 'Netherlands',\n",
    "'United Arab Emirates', 'Finland', 'United Kingdom', 'France', 'New Zealand', 'United States', 'Uruguay', 'Germany',\n",
    "'Norway', 'Gibraltar', 'Oman']"
   ]
  },
  {
   "cell_type": "code",
   "execution_count": 61,
   "metadata": {},
   "outputs": [],
   "source": [
    "upper_middle = ['Argentina', 'Armenia', 'Paraguay', 'Azerbaijan', 'Guatemala', 'Peru', 'Belarus', 'Russia', 'Indonesia',\n",
    " 'Samoa', 'Bosnia and Herzegovina', 'Iran''Serbia', 'Botswana', 'Iraq', 'South Africa', 'Brazil',\n",
    " 'Jamaica', 'Bulgaria', 'Jordan', 'China', 'Kazakhstan', 'Colombia', 'Kosovo', 'Thailand', 'Costa Rica',\n",
    " 'Lebanon', 'Tonga', 'Cuba', 'Libya', 'Turkey', 'Dominica', 'Malaysia', 'Turkmenistan', 'Dominican Republic',\n",
    " 'Maldives', 'Tuvalu', 'Ecuador', 'Mexico']"
   ]
  },
  {
   "cell_type": "code",
   "execution_count": 62,
   "metadata": {},
   "outputs": [],
   "source": [
    "lower_middle = ['Angola', 'Honduras', 'Algeria', 'India', 'Philippines', 'Bangladesh', 'Kenya', 'Benin', 'Senegal',\n",
    "                'Bhutan', 'Bolivia', 'Sri Lanka', 'Lesotho', 'Tanzania', 'Cambodia', 'Mauritania', 'Cameroon',\n",
    "                'Tunisia', 'Moldova', 'Ukraine', 'Congo', 'Mongolia', 'Uzbekistan', 'Morocco', 'Vietnam', 'Egypt',\n",
    "                'El Salvador', 'Nicaragua', 'Zambia', 'Nigeria', 'Zimbabwe', 'Ghana', 'Pakistan']"
   ]
  },
  {
   "cell_type": "code",
   "execution_count": 63,
   "metadata": {},
   "outputs": [],
   "source": [
    "low_income = ['Afghanistan', 'Guinea-Bissau', 'Sierra Leone', 'Burkina Faso', 'Haiti', 'Somalia', 'Burundi', \n",
    "              'South Sudan', 'Central African Republic', 'Liberia', 'Sudan', 'Chad', 'Madagascar', 'Syria',\n",
    "              'Congo', 'Malawi', 'Tajikistan', 'Mali', 'Togo', 'Ethiopia', 'Mozambique', 'Uganda', 'Gambia',\n",
    "              'Niger', 'Yemen', 'Guinea', 'Rwanda']"
   ]
  },
  {
   "cell_type": "code",
   "execution_count": 64,
   "metadata": {
    "scrolled": true
   },
   "outputs": [
    {
     "data": {
      "text/html": [
       "<div>\n",
       "<style scoped>\n",
       "    .dataframe tbody tr th:only-of-type {\n",
       "        vertical-align: middle;\n",
       "    }\n",
       "\n",
       "    .dataframe tbody tr th {\n",
       "        vertical-align: top;\n",
       "    }\n",
       "\n",
       "    .dataframe thead th {\n",
       "        text-align: right;\n",
       "    }\n",
       "</style>\n",
       "<table border=\"1\" class=\"dataframe\">\n",
       "  <thead>\n",
       "    <tr style=\"text-align: right;\">\n",
       "      <th></th>\n",
       "      <th>kraje</th>\n",
       "      <th>kraje_rozw</th>\n",
       "    </tr>\n",
       "  </thead>\n",
       "  <tbody>\n",
       "    <tr>\n",
       "      <th>0</th>\n",
       "      <td>global</td>\n",
       "      <td>global</td>\n",
       "    </tr>\n",
       "    <tr>\n",
       "      <th>1</th>\n",
       "      <td>us</td>\n",
       "      <td>United States</td>\n",
       "    </tr>\n",
       "    <tr>\n",
       "      <th>2</th>\n",
       "      <td>gb</td>\n",
       "      <td>United Kingdom</td>\n",
       "    </tr>\n",
       "    <tr>\n",
       "      <th>3</th>\n",
       "      <td>ae</td>\n",
       "      <td>United Arab Emirates</td>\n",
       "    </tr>\n",
       "    <tr>\n",
       "      <th>4</th>\n",
       "      <td>ar</td>\n",
       "      <td>Argentina</td>\n",
       "    </tr>\n",
       "    <tr>\n",
       "      <th>...</th>\n",
       "      <td>...</td>\n",
       "      <td>...</td>\n",
       "    </tr>\n",
       "    <tr>\n",
       "      <th>65</th>\n",
       "      <td>tw</td>\n",
       "      <td>Taiwan</td>\n",
       "    </tr>\n",
       "    <tr>\n",
       "      <th>66</th>\n",
       "      <td>ua</td>\n",
       "      <td>Ukraine</td>\n",
       "    </tr>\n",
       "    <tr>\n",
       "      <th>67</th>\n",
       "      <td>uy</td>\n",
       "      <td>Uruguay</td>\n",
       "    </tr>\n",
       "    <tr>\n",
       "      <th>68</th>\n",
       "      <td>vn</td>\n",
       "      <td>Vietnam</td>\n",
       "    </tr>\n",
       "    <tr>\n",
       "      <th>69</th>\n",
       "      <td>za</td>\n",
       "      <td>South Africa</td>\n",
       "    </tr>\n",
       "  </tbody>\n",
       "</table>\n",
       "<p>70 rows × 2 columns</p>\n",
       "</div>"
      ],
      "text/plain": [
       "     kraje            kraje_rozw\n",
       "0   global                global\n",
       "1       us         United States\n",
       "2       gb        United Kingdom\n",
       "3       ae  United Arab Emirates\n",
       "4       ar             Argentina\n",
       "..     ...                   ...\n",
       "65      tw                Taiwan\n",
       "66      ua               Ukraine\n",
       "67      uy               Uruguay\n",
       "68      vn               Vietnam\n",
       "69      za          South Africa\n",
       "\n",
       "[70 rows x 2 columns]"
      ]
     },
     "execution_count": 64,
     "metadata": {},
     "output_type": "execute_result"
    }
   ],
   "source": [
    "kody = pd.DataFrame()\n",
    "kody['kraje'] = kraje\n",
    "kody['kraje_rozw'] = kraje_rozw\n",
    "kody"
   ]
  },
  {
   "cell_type": "code",
   "execution_count": 65,
   "metadata": {},
   "outputs": [],
   "source": [
    "mob = pd.read_csv('C:/Users/szymo/Desktop/Nauka/Licencjat/Dane/Google Mobility/Global_Mobility_Obrobione.csv')\n",
    "mob = mob.rename(columns={'date': 'data'})"
   ]
  },
  {
   "cell_type": "code",
   "execution_count": 75,
   "metadata": {
    "scrolled": true
   },
   "outputs": [
    {
     "name": "stdout",
     "output_type": "stream",
     "text": [
      "BRAK KLASYFIKACJI KRAJU:  global\n",
      "global  - SUKCES\n",
      "us  - SUKCES\n",
      "gb  - SUKCES\n",
      "ae  - SUKCES\n",
      "ar  - SUKCES\n",
      "at  - SUKCES\n",
      "au  - SUKCES\n",
      "be  - SUKCES\n",
      "bg  - SUKCES\n",
      "bo  - SUKCES\n",
      "br  - SUKCES\n",
      "ca  - SUKCES\n",
      "ch  - SUKCES\n",
      "cl  - SUKCES\n",
      "co  - SUKCES\n",
      "cr  - SUKCES\n",
      "cy  - SUKCES\n",
      "cy 2021-03-14 00:00:00  - ERROR\n",
      "cz  - SUKCES\n",
      "de  - SUKCES\n",
      "dk  - SUKCES\n",
      "do  - SUKCES\n",
      "ec  - SUKCES\n",
      "ee  - SUKCES\n",
      "eg  - SUKCES\n",
      "es  - SUKCES\n",
      "fi  - SUKCES\n",
      "fr  - SUKCES\n",
      "gr  - SUKCES\n",
      "gt  - SUKCES\n",
      "hk  - SUKCES\n",
      "hn  - SUKCES\n",
      "hu  - SUKCES\n",
      "id  - SUKCES\n",
      "ie  - SUKCES\n",
      "il  - SUKCES\n",
      "in  - SUKCES\n",
      "is  - SUKCES\n",
      "it  - SUKCES\n",
      "jp  - SUKCES\n",
      "kr  - SUKCES\n",
      "kr 2021-03-14 00:00:00  - ERROR\n",
      "lt  - SUKCES\n",
      "lu  - SUKCES\n",
      "lv  - SUKCES\n",
      "ma  - SUKCES\n",
      "mx  - SUKCES\n",
      "my  - SUKCES\n",
      "ni  - SUKCES\n",
      "nl  - SUKCES\n",
      "no  - SUKCES\n",
      "nz  - SUKCES\n",
      "pa  - SUKCES\n",
      "pe  - SUKCES\n",
      "ph  - SUKCES\n",
      "pl  - SUKCES\n",
      "pt  - SUKCES\n",
      "py  - SUKCES\n",
      "ro  - SUKCES\n",
      "ru  - SUKCES\n",
      "ru 2021-03-14 00:00:00  - ERROR\n",
      "sa  - SUKCES\n",
      "se  - SUKCES\n",
      "sg  - SUKCES\n",
      "sk  - SUKCES\n",
      "sv  - SUKCES\n",
      "th  - SUKCES\n",
      "tr  - SUKCES\n",
      "tw  - SUKCES\n",
      "ua  - SUKCES\n",
      "ua 2021-03-14 00:00:00  - ERROR\n",
      "uy  - SUKCES\n",
      "vn  - SUKCES\n",
      "za  - SUKCES\n",
      "Liczba bledow: 0\n"
     ]
    }
   ],
   "source": [
    "x = 0\n",
    "wszy = pd.DataFrame()\n",
    "for kraj in kraje: \n",
    "    df = pd.DataFrame()\n",
    "    try:\n",
    "        avg = pd.read_csv('C:/Users/szymo/Desktop/Nauka/Licencjat/Dane/licencjat dane/daily_avg/'+kraj+'-daily_avg.csv')\n",
    "        ctry = kody[kody[\"kraje\"] == kraj][\"kraje_rozw\"].values[0]\n",
    "        mob_kraj = mob.loc[mob['country_region'] == ctry]\n",
    "        df = avg.merge(mob_kraj, how='right')\n",
    "        df = df.drop(columns=['Unnamed: 0'], axis=1)\n",
    "        df = df.dropna()\n",
    "        if ctry in high_income:\n",
    "            df['income'] = 'high'\n",
    "        elif ctry in upper_middle:\n",
    "            df['income'] = 'upper_middle'\n",
    "        elif ctry in lower_middle:\n",
    "            df['income'] = 'lower_middle'\n",
    "        elif ctry in low_income:\n",
    "            df['income'] = 'low'\n",
    "        else:\n",
    "            print(\"BRAK KLASYFIKACJI KRAJU: \", ctry)\n",
    "        \n",
    "        # Dodanie zmiennych\n",
    "        wknd = []\n",
    "        day = []\n",
    "        month = []\n",
    "        for da in df['data']:\n",
    "            da = datetime.fromisoformat(da)\n",
    "            mo = da.month\n",
    "            weekday = da.weekday()\n",
    "            \n",
    "            # Miesiace\n",
    "            if mo == 1:\n",
    "                month.append('January')\n",
    "            if mo == 2:\n",
    "                month.append('February')\n",
    "            if mo == 3:\n",
    "                month.append('March')\n",
    "            if mo == 4:\n",
    "                month.append('April')\n",
    "            if mo == 5:\n",
    "                month.append('May')\n",
    "            if mo == 6:\n",
    "                month.append('June')\n",
    "            if mo == 7:\n",
    "                month.append('July')\n",
    "            if mo == 8:\n",
    "                month.append('August')\n",
    "            if mo == 9:\n",
    "                month.append('September')\n",
    "            if mo == 10:\n",
    "                month.append('October')\n",
    "            if mo == 11:\n",
    "                month.append('November')\n",
    "            if mo == 12:\n",
    "                month.append('December')\n",
    "            \n",
    "            # Dni\n",
    "            if weekday == 0:\n",
    "                wknd.append(0)\n",
    "                day.append('monday')\n",
    "            if weekday == 1:\n",
    "                wknd.append(0)\n",
    "                day.append('tuesday')\n",
    "            if weekday == 2:\n",
    "                wknd.append(0)\n",
    "                day.append('wednesday')\n",
    "            if weekday == 3:\n",
    "                wknd.append(0)\n",
    "                day.append('thursday')\n",
    "            if weekday == 4:\n",
    "                wknd.append(0)\n",
    "                day.append('friday')\n",
    "            if weekday == 5:\n",
    "                wknd.append(1)\n",
    "                day.append('saturday')\n",
    "            if weekday == 6:\n",
    "                wknd.append(1)\n",
    "                day.append('sunday')\n",
    "        df['month'] = month\n",
    "        df['weekday'] = day\n",
    "        df['is_weekend'] = wknd\n",
    "        print(kraj, \" - SUKCES\")\n",
    "    except:\n",
    "        x = x+1\n",
    "        print(kraj, \" - ERROR\")\n",
    "    try:\n",
    "        df = df[['data',\n",
    "             'weekday',\n",
    "             'srednia',\n",
    "             'zmiana',\n",
    "             'country_region',\n",
    "             'retail_and_recreation_percent_change_from_baseline',\n",
    "             'grocery_and_pharmacy_percent_change_from_baseline',\n",
    "             'parks_percent_change_from_baseline',\n",
    "             'transit_stations_percent_change_from_baseline',\n",
    "             'workplaces_percent_change_from_baseline',\n",
    "             'residential_percent_change_from_baseline',\n",
    "             'is_weekend',\n",
    "             'month',\n",
    "             'income']]\n",
    "    except:\n",
    "        try:\n",
    "            df = df[['data',\n",
    "                 'weekday',\n",
    "                 'srednia',\n",
    "                 'zmiana',\n",
    "                 'country_region',\n",
    "                 'retail_and_recreation_percent_change_from_baseline',\n",
    "                 'grocery_and_pharmacy_percent_change_from_baseline',\n",
    "                 'parks_percent_change_from_baseline',\n",
    "                 'transit_stations_percent_change_from_baseline',\n",
    "                 'workplaces_percent_change_from_baseline',\n",
    "                 'residential_percent_change_from_baseline',\n",
    "                 'is_weekend',\n",
    "                 'month']]\n",
    "        except:\n",
    "            print(kraj, da, \" - ERROR\")\n",
    "    #df.to_csv('C:/Users/szymo/Desktop/Nauka/Licencjat/Dane/licencjat dane/poszczegolne/'+ctry+'-data.csv', index=False)\n",
    "    wszy = wszy.append(df, ignore_index=True)\n",
    "print('Liczba bledow:', x)\n",
    "wszy = wszy[['data',\n",
    "         'weekday',\n",
    "         'srednia',\n",
    "         'zmiana',\n",
    "         'country_region',\n",
    "         'retail_and_recreation_percent_change_from_baseline',\n",
    "         'grocery_and_pharmacy_percent_change_from_baseline',\n",
    "         'parks_percent_change_from_baseline',\n",
    "         'transit_stations_percent_change_from_baseline',\n",
    "         'workplaces_percent_change_from_baseline',\n",
    "         'residential_percent_change_from_baseline',\n",
    "         'is_weekend',\n",
    "         'month',\n",
    "         'income']]\n",
    "#wszy.to_csv('C:/Users/szymo/Desktop/Nauka/Licencjat/Dane/licencjat dane/merged.csv', index=False)"
   ]
  },
  {
   "cell_type": "code",
   "execution_count": 44,
   "metadata": {
    "scrolled": true
   },
   "outputs": [
    {
     "data": {
      "text/html": [
       "<div>\n",
       "<style scoped>\n",
       "    .dataframe tbody tr th:only-of-type {\n",
       "        vertical-align: middle;\n",
       "    }\n",
       "\n",
       "    .dataframe tbody tr th {\n",
       "        vertical-align: top;\n",
       "    }\n",
       "\n",
       "    .dataframe thead th {\n",
       "        text-align: right;\n",
       "    }\n",
       "</style>\n",
       "<table border=\"1\" class=\"dataframe\">\n",
       "  <thead>\n",
       "    <tr style=\"text-align: right;\">\n",
       "      <th></th>\n",
       "      <th>data</th>\n",
       "      <th>srednia</th>\n",
       "      <th>retail_and_recreation_percent_change_from_baseline</th>\n",
       "      <th>grocery_and_pharmacy_percent_change_from_baseline</th>\n",
       "      <th>parks_percent_change_from_baseline</th>\n",
       "      <th>transit_stations_percent_change_from_baseline</th>\n",
       "      <th>workplaces_percent_change_from_baseline</th>\n",
       "      <th>residential_percent_change_from_baseline</th>\n",
       "      <th>is_weekend</th>\n",
       "      <th>high_income</th>\n",
       "      <th>upper_middle</th>\n",
       "      <th>lower_middle</th>\n",
       "      <th>low_middle</th>\n",
       "    </tr>\n",
       "  </thead>\n",
       "  <tbody>\n",
       "  </tbody>\n",
       "</table>\n",
       "</div>"
      ],
      "text/plain": [
       "Empty DataFrame\n",
       "Columns: [data, srednia, retail_and_recreation_percent_change_from_baseline, grocery_and_pharmacy_percent_change_from_baseline, parks_percent_change_from_baseline, transit_stations_percent_change_from_baseline, workplaces_percent_change_from_baseline, residential_percent_change_from_baseline, is_weekend, high_income, upper_middle, lower_middle, low_middle]\n",
       "Index: []"
      ]
     },
     "execution_count": 44,
     "metadata": {},
     "output_type": "execute_result"
    }
   ],
   "source": [
    "wszy[wszy[\"low_middle\"] == 1]"
   ]
  },
  {
   "cell_type": "code",
   "execution_count": 30,
   "metadata": {
    "scrolled": true
   },
   "outputs": [
    {
     "data": {
      "text/plain": [
       "'South Africa'"
      ]
     },
     "execution_count": 30,
     "metadata": {},
     "output_type": "execute_result"
    }
   ],
   "source": [
    "kody[kody[\"kraje\"] == kraj][\"kraje_rozw\"].values[0]"
   ]
  },
  {
   "cell_type": "code",
   "execution_count": 36,
   "metadata": {},
   "outputs": [],
   "source": [
    "kraj = 'pl'"
   ]
  },
  {
   "cell_type": "code",
   "execution_count": 69,
   "metadata": {},
   "outputs": [
    {
     "data": {
      "text/plain": [
       "'global'"
      ]
     },
     "execution_count": 69,
     "metadata": {},
     "output_type": "execute_result"
    }
   ],
   "source": [
    "ctry"
   ]
  }
 ],
 "metadata": {
  "kernelspec": {
   "display_name": "Python 3",
   "language": "python",
   "name": "python3"
  },
  "language_info": {
   "codemirror_mode": {
    "name": "ipython",
    "version": 3
   },
   "file_extension": ".py",
   "mimetype": "text/x-python",
   "name": "python",
   "nbconvert_exporter": "python",
   "pygments_lexer": "ipython3",
   "version": "3.7.9"
  }
 },
 "nbformat": 4,
 "nbformat_minor": 4
}
