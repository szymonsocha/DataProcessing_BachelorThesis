{
 "cells": [
  {
   "cell_type": "code",
   "execution_count": 1,
   "metadata": {},
   "outputs": [],
   "source": [
    "from selenium import webdriver\n",
    "from selenium.webdriver.support.ui import Select\n",
    "from time import sleep\n",
    "import datetime\n",
    "import pandas as pd\n",
    "from datetime import datetime"
   ]
  },
  {
   "cell_type": "code",
   "execution_count": 17,
   "metadata": {
    "scrolled": false
   },
   "outputs": [],
   "source": [
    "driver = webdriver.Chrome(executable_path='./chromedriver')\n",
    "# driver.get('https://www.sportstats.ca/display-results.xhtml?raceid=26001')\n",
    "# sleep(1)"
   ]
  },
  {
   "cell_type": "code",
   "execution_count": 12,
   "metadata": {},
   "outputs": [],
   "source": [
    "kraje = ['global', 'us', 'gb', 'ae', 'ar', 'au', 'be', 'bg', 'bo', 'br', 'ca', 'ch', 'cl',\n",
    "         'co', 'cr', 'cy', 'cz', 'de', 'dk', 'do', 'ec', 'ee', 'eg', 'es', 'fi', 'fr', 'gr',\n",
    "         'gt', 'hk', 'hn', 'hu', 'id', 'ie', 'il', 'in', 'is', 'it', 'jp', 'kr', 'lt', 'lu',\n",
    "         'lv', 'ma', 'mx', 'my', 'ni', 'nl', 'no', 'nz', 'pa', 'pe', 'ph', 'pl', 'pt', 'py',\n",
    "         'ro', 'ru', 'sa', 'se', 'sg', 'sk', 'sv', 'th', 'tr', 'tw', 'ua', 'uy', 'vn', 'za']"
   ]
  },
  {
   "cell_type": "code",
   "execution_count": 3,
   "metadata": {},
   "outputs": [],
   "source": [
    "daty = pd.date_range(start=\"2020-01-03\",end=\"2021-03-01\")"
   ]
  },
  {
   "cell_type": "code",
   "execution_count": 2,
   "metadata": {},
   "outputs": [],
   "source": [
    "kraje_global = ['global']\n",
    "daty_global = pd.date_range(start=\"2018-03-01\",end=\"2021-03-01\")\n",
    "daty_global = daty_global.strftime('%Y-%m-%d')"
   ]
  },
  {
   "cell_type": "code",
   "execution_count": 5,
   "metadata": {
    "scrolled": true
   },
   "outputs": [],
   "source": [
    "daty = daty.strftime('%Y-%m-%d')"
   ]
  },
  {
   "cell_type": "code",
   "execution_count": null,
   "metadata": {},
   "outputs": [
    {
     "name": "stdout",
     "output_type": "stream",
     "text": [
      "global 2018-03-01\n",
      "global 2018-03-02\n",
      "global 2018-03-03\n",
      "global 2018-03-04\n",
      "global 2018-03-05\n",
      "global 2018-03-06\n",
      "global 2018-03-07\n",
      "global 2018-03-08\n",
      "global 2018-03-09\n",
      "global 2018-03-10\n",
      "global 2018-03-11\n",
      "global 2018-03-12\n",
      "global 2018-03-13\n",
      "global 2018-03-14\n",
      "global 2018-03-15\n",
      "global 2018-03-16\n",
      "global 2018-03-17\n",
      "global 2018-03-18\n",
      "global 2018-03-19\n",
      "global 2018-03-20\n",
      "global 2018-03-21\n",
      "global 2018-03-22\n",
      "global 2018-03-23\n",
      "global 2018-03-24\n",
      "global 2018-03-25\n",
      "global 2018-03-26\n",
      "global 2018-03-27\n"
     ]
    }
   ],
   "source": [
    "for kraj in kraje: \n",
    "    for data in daty:\n",
    "        driver.get('https://spotifycharts.com/regional/'+kraj+'/daily/'+data+'/download')\n",
    "        print(kraj, data)\n",
    "        sleep(1)"
   ]
  }
 ],
 "metadata": {
  "kernelspec": {
   "display_name": "Python 3",
   "language": "python",
   "name": "python3"
  },
  "language_info": {
   "codemirror_mode": {
    "name": "ipython",
    "version": 3
   },
   "file_extension": ".py",
   "mimetype": "text/x-python",
   "name": "python",
   "nbconvert_exporter": "python",
   "pygments_lexer": "ipython3",
   "version": "3.7.9"
  }
 },
 "nbformat": 4,
 "nbformat_minor": 4
}
