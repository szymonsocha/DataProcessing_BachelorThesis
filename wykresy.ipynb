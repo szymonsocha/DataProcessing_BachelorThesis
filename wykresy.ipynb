{
 "cells": [
  {
   "cell_type": "code",
   "execution_count": 1,
   "metadata": {},
   "outputs": [],
   "source": [
    "import pandas as pd\n",
    "import seaborn as sns"
   ]
  },
  {
   "cell_type": "code",
   "execution_count": 2,
   "metadata": {
    "scrolled": false
   },
   "outputs": [
    {
     "data": {
      "text/html": [
       "<div>\n",
       "<style scoped>\n",
       "    .dataframe tbody tr th:only-of-type {\n",
       "        vertical-align: middle;\n",
       "    }\n",
       "\n",
       "    .dataframe tbody tr th {\n",
       "        vertical-align: top;\n",
       "    }\n",
       "\n",
       "    .dataframe thead th {\n",
       "        text-align: right;\n",
       "    }\n",
       "</style>\n",
       "<table border=\"1\" class=\"dataframe\">\n",
       "  <thead>\n",
       "    <tr style=\"text-align: right;\">\n",
       "      <th></th>\n",
       "      <th>data</th>\n",
       "      <th>srednia</th>\n",
       "      <th>zmiana</th>\n",
       "    </tr>\n",
       "  </thead>\n",
       "  <tbody>\n",
       "    <tr>\n",
       "      <th>0</th>\n",
       "      <td>2017-01-01</td>\n",
       "      <td>743065.835</td>\n",
       "      <td>NaN</td>\n",
       "    </tr>\n",
       "    <tr>\n",
       "      <th>1</th>\n",
       "      <td>2017-01-02</td>\n",
       "      <td>774054.180</td>\n",
       "      <td>NaN</td>\n",
       "    </tr>\n",
       "    <tr>\n",
       "      <th>2</th>\n",
       "      <td>2017-01-03</td>\n",
       "      <td>831199.650</td>\n",
       "      <td>NaN</td>\n",
       "    </tr>\n",
       "    <tr>\n",
       "      <th>3</th>\n",
       "      <td>2017-01-04</td>\n",
       "      <td>846262.535</td>\n",
       "      <td>NaN</td>\n",
       "    </tr>\n",
       "    <tr>\n",
       "      <th>4</th>\n",
       "      <td>2017-01-05</td>\n",
       "      <td>849595.470</td>\n",
       "      <td>NaN</td>\n",
       "    </tr>\n",
       "    <tr>\n",
       "      <th>...</th>\n",
       "      <td>...</td>\n",
       "      <td>...</td>\n",
       "      <td>...</td>\n",
       "    </tr>\n",
       "    <tr>\n",
       "      <th>1526</th>\n",
       "      <td>2021-03-11</td>\n",
       "      <td>1227037.670</td>\n",
       "      <td>-11.0</td>\n",
       "    </tr>\n",
       "    <tr>\n",
       "      <th>1527</th>\n",
       "      <td>2021-03-12</td>\n",
       "      <td>1351404.315</td>\n",
       "      <td>-2.0</td>\n",
       "    </tr>\n",
       "    <tr>\n",
       "      <th>1528</th>\n",
       "      <td>2021-03-13</td>\n",
       "      <td>1335835.440</td>\n",
       "      <td>-3.0</td>\n",
       "    </tr>\n",
       "    <tr>\n",
       "      <th>1529</th>\n",
       "      <td>2021-03-14</td>\n",
       "      <td>1168262.035</td>\n",
       "      <td>-15.0</td>\n",
       "    </tr>\n",
       "    <tr>\n",
       "      <th>1530</th>\n",
       "      <td>2021-03-15</td>\n",
       "      <td>1196533.095</td>\n",
       "      <td>-13.0</td>\n",
       "    </tr>\n",
       "  </tbody>\n",
       "</table>\n",
       "<p>1531 rows × 3 columns</p>\n",
       "</div>"
      ],
      "text/plain": [
       "            data      srednia  zmiana\n",
       "0     2017-01-01   743065.835     NaN\n",
       "1     2017-01-02   774054.180     NaN\n",
       "2     2017-01-03   831199.650     NaN\n",
       "3     2017-01-04   846262.535     NaN\n",
       "4     2017-01-05   849595.470     NaN\n",
       "...          ...          ...     ...\n",
       "1526  2021-03-11  1227037.670   -11.0\n",
       "1527  2021-03-12  1351404.315    -2.0\n",
       "1528  2021-03-13  1335835.440    -3.0\n",
       "1529  2021-03-14  1168262.035   -15.0\n",
       "1530  2021-03-15  1196533.095   -13.0\n",
       "\n",
       "[1531 rows x 3 columns]"
      ]
     },
     "execution_count": 2,
     "metadata": {},
     "output_type": "execute_result"
    }
   ],
   "source": [
    "df = pd.read_csv('C:/Users/szymo/Desktop/Nauka/Licencjat/Dane/licencjat dane/daily_avg_wyk/global-daily_avg.csv')\n",
    "df"
   ]
  },
  {
   "cell_type": "code",
   "execution_count": 3,
   "metadata": {
    "scrolled": true
   },
   "outputs": [
    {
     "data": {
      "text/plain": [
       "<seaborn.axisgrid.FacetGrid at 0x257ab88f588>"
      ]
     },
     "execution_count": 3,
     "metadata": {},
     "output_type": "execute_result"
    },
    {
     "data": {
      "image/png": "[encoded data removed]",
      "text/plain": [
       "<Figure size 360x360 with 1 Axes>"
      ]
     },
     "metadata": {
      "needs_background": "light"
     },
     "output_type": "display_data"
    }
   ],
   "source": [
    "sns.relplot(\n",
    "    data=df,  kind=\"line\",\n",
    "     x= \"data\", y=\"srednia\"\n",
    ")"
   ]
  },
  {
   "cell_type": "code",
   "execution_count": 6,
   "metadata": {},
   "outputs": [],
   "source": [
    "import numpy as np\n",
    "import matplotlib.pyplot as plt\n",
    "from scipy.interpolate import make_interp_spline"
   ]
  },
  {
   "cell_type": "code",
   "execution_count": 16,
   "metadata": {},
   "outputs": [],
   "source": [
    "x = df['data'].tolist()\n",
    "y = df['srednia'].tolist()"
   ]
  },
  {
   "cell_type": "code",
   "execution_count": 18,
   "metadata": {},
   "outputs": [],
   "source": [
    "x = np.array(x)\n",
    "y = np.array(y)"
   ]
  },
  {
   "cell_type": "code",
   "execution_count": 20,
   "metadata": {},
   "outputs": [
    {
     "ename": "TypeError",
     "evalue": "cannot perform reduce with flexible type",
     "output_type": "error",
     "traceback": [
      "\u001b[1;31m---------------------------------------------------------------------------\u001b[0m",
      "\u001b[1;31mTypeError\u001b[0m                                 Traceback (most recent call last)",
      "\u001b[1;32m<ipython-input-20-a3a2582d430c>\u001b[0m in \u001b[0;36m<module>\u001b[1;34m\u001b[0m\n\u001b[1;32m----> 1\u001b[1;33m \u001b[0mxnew\u001b[0m \u001b[1;33m=\u001b[0m \u001b[0mnp\u001b[0m\u001b[1;33m.\u001b[0m\u001b[0mlinspace\u001b[0m\u001b[1;33m(\u001b[0m\u001b[0mx\u001b[0m\u001b[1;33m.\u001b[0m\u001b[0mmin\u001b[0m\u001b[1;33m(\u001b[0m\u001b[1;33m)\u001b[0m\u001b[1;33m,\u001b[0m \u001b[0mx\u001b[0m\u001b[1;33m.\u001b[0m\u001b[0mmax\u001b[0m\u001b[1;33m(\u001b[0m\u001b[1;33m)\u001b[0m\u001b[1;33m)\u001b[0m\u001b[1;33m\u001b[0m\u001b[1;33m\u001b[0m\u001b[0m\n\u001b[0m\u001b[0;32m      2\u001b[0m \u001b[1;33m\u001b[0m\u001b[0m\n\u001b[0;32m      3\u001b[0m \u001b[0mgfg\u001b[0m \u001b[1;33m=\u001b[0m \u001b[0mmake_interp_spline\u001b[0m\u001b[1;33m(\u001b[0m\u001b[0mx\u001b[0m\u001b[1;33m,\u001b[0m \u001b[0my\u001b[0m\u001b[1;33m,\u001b[0m \u001b[0mk\u001b[0m\u001b[1;33m=\u001b[0m\u001b[1;36m3\u001b[0m\u001b[1;33m)\u001b[0m\u001b[1;33m\u001b[0m\u001b[1;33m\u001b[0m\u001b[0m\n\u001b[0;32m      4\u001b[0m \u001b[1;33m\u001b[0m\u001b[0m\n\u001b[0;32m      5\u001b[0m \u001b[0my_new\u001b[0m \u001b[1;33m=\u001b[0m \u001b[0mgfg\u001b[0m\u001b[1;33m(\u001b[0m\u001b[0mxnew\u001b[0m\u001b[1;33m)\u001b[0m\u001b[1;33m\u001b[0m\u001b[1;33m\u001b[0m\u001b[0m\n",
      "\u001b[1;32m~\\anaconda3\\envs\\myPython\\lib\\site-packages\\numpy\\core\\_methods.py\u001b[0m in \u001b[0;36m_amin\u001b[1;34m(a, axis, out, keepdims, initial, where)\u001b[0m\n\u001b[0;32m     41\u001b[0m def _amin(a, axis=None, out=None, keepdims=False,\n\u001b[0;32m     42\u001b[0m           initial=_NoValue, where=True):\n\u001b[1;32m---> 43\u001b[1;33m     \u001b[1;32mreturn\u001b[0m \u001b[0mumr_minimum\u001b[0m\u001b[1;33m(\u001b[0m\u001b[0ma\u001b[0m\u001b[1;33m,\u001b[0m \u001b[0maxis\u001b[0m\u001b[1;33m,\u001b[0m \u001b[1;32mNone\u001b[0m\u001b[1;33m,\u001b[0m \u001b[0mout\u001b[0m\u001b[1;33m,\u001b[0m \u001b[0mkeepdims\u001b[0m\u001b[1;33m,\u001b[0m \u001b[0minitial\u001b[0m\u001b[1;33m,\u001b[0m \u001b[0mwhere\u001b[0m\u001b[1;33m)\u001b[0m\u001b[1;33m\u001b[0m\u001b[1;33m\u001b[0m\u001b[0m\n\u001b[0m\u001b[0;32m     44\u001b[0m \u001b[1;33m\u001b[0m\u001b[0m\n\u001b[0;32m     45\u001b[0m def _sum(a, axis=None, dtype=None, out=None, keepdims=False,\n",
      "\u001b[1;31mTypeError\u001b[0m: cannot perform reduce with flexible type"
     ]
    }
   ],
   "source": [
    "xnew = np.linspace(x.min(), x.max())\n",
    "  \n",
    "gfg = make_interp_spline(x, y, k=3)\n",
    "  \n",
    "y_new = gfg(xnew)\n",
    "  \n",
    "plt.plot(xnew, y_new)\n",
    "  \n",
    "plt.show()"
   ]
  },
  {
   "cell_type": "code",
   "execution_count": null,
   "metadata": {},
   "outputs": [],
   "source": [
    "x = 0\n",
    "wszy = pd.DataFrame()\n",
    "for kraj in kraje_wyk: \n",
    "    df = pd.DataFrame()\n",
    "    try:\n",
    "        avg = pd.read_csv('C:/Users/szymo/Desktop/Nauka/Licencjat/Dane/licencjat dane/daily_avg/'+kraj+'-daily_avg.csv')\n",
    "        ctry = kody[kody[\"kraje\"] == kraj][\"kraje_rozw\"].values[0]\n",
    "        mob_kraj = mob.loc[mob['country_region'] == ctry]\n",
    "        df = avg.merge(mob_kraj, how='right')\n",
    "        df = df.drop(columns=['Unnamed: 0'], axis=1)\n",
    "        df = df.dropna()\n",
    "        if ctry in high_income:\n",
    "            df['income'] = 'high'\n",
    "        elif ctry in upper_middle:\n",
    "            df['income'] = 'upper_middle'\n",
    "        elif ctry in lower_middle:\n",
    "            df['income'] = 'lower_middle'\n",
    "        elif ctry in low_income:\n",
    "            df['income'] = 'low'\n",
    "        else:\n",
    "            print(\"BRAK KLASYFIKACJI KRAJU: \", ctry)\n",
    "        \n",
    "        # Dodanie zmiennych\n",
    "        wknd = []\n",
    "        day = []\n",
    "        month = []\n",
    "        for da in df['data']:\n",
    "            da = datetime.fromisoformat(da)\n",
    "            mo = da.month\n",
    "            weekday = da.weekday()\n",
    "            \n",
    "            # Miesiace\n",
    "            if mo == 1:\n",
    "                month.append('January')\n",
    "            if mo == 2:\n",
    "                month.append('February')\n",
    "            if mo == 3:\n",
    "                month.append('March')\n",
    "            if mo == 4:\n",
    "                month.append('April')\n",
    "            if mo == 5:\n",
    "                month.append('May')\n",
    "            if mo == 6:\n",
    "                month.append('June')\n",
    "            if mo == 7:\n",
    "                month.append('July')\n",
    "            if mo == 8:\n",
    "                month.append('August')\n",
    "            if mo == 9:\n",
    "                month.append('September')\n",
    "            if mo == 10:\n",
    "                month.append('October')\n",
    "            if mo == 11:\n",
    "                month.append('November')\n",
    "            if mo == 12:\n",
    "                month.append('December')\n",
    "            \n",
    "            # Dni\n",
    "            if weekday == 0:\n",
    "                wknd.append(0)\n",
    "                day.append('monday')\n",
    "            if weekday == 1:\n",
    "                wknd.append(0)\n",
    "                day.append('tuesday')\n",
    "            if weekday == 2:\n",
    "                wknd.append(0)\n",
    "                day.append('wednesday')\n",
    "            if weekday == 3:\n",
    "                wknd.append(0)\n",
    "                day.append('thursday')\n",
    "            if weekday == 4:\n",
    "                wknd.append(0)\n",
    "                day.append('friday')\n",
    "            if weekday == 5:\n",
    "                wknd.append(1)\n",
    "                day.append('saturday')\n",
    "            if weekday == 6:\n",
    "                wknd.append(1)\n",
    "                day.append('sunday')\n",
    "        df['month'] = month\n",
    "        df['weekday'] = day\n",
    "        df['is_weekend'] = wknd\n",
    "        print(kraj, \" - SUKCES\")\n",
    "    except:\n",
    "        x = x+1\n",
    "        print(kraj, \" - ERROR\")\n",
    "    try:\n",
    "        df = df[['data',\n",
    "             'weekday',\n",
    "             'srednia',\n",
    "             'zmiana',\n",
    "             'country_region',\n",
    "             'retail_and_recreation_percent_change_from_baseline',\n",
    "             'grocery_and_pharmacy_percent_change_from_baseline',\n",
    "             'parks_percent_change_from_baseline',\n",
    "             'transit_stations_percent_change_from_baseline',\n",
    "             'workplaces_percent_change_from_baseline',\n",
    "             'residential_percent_change_from_baseline',\n",
    "             'is_weekend',\n",
    "             'month',\n",
    "             'income']]\n",
    "    except:\n",
    "        try:\n",
    "            df = df[['data',\n",
    "                 'weekday',\n",
    "                 'srednia',\n",
    "                 'zmiana',\n",
    "                 'country_region',\n",
    "                 'retail_and_recreation_percent_change_from_baseline',\n",
    "                 'grocery_and_pharmacy_percent_change_from_baseline',\n",
    "                 'parks_percent_change_from_baseline',\n",
    "                 'transit_stations_percent_change_from_baseline',\n",
    "                 'workplaces_percent_change_from_baseline',\n",
    "                 'residential_percent_change_from_baseline',\n",
    "                 'is_weekend',\n",
    "                 'month']]\n",
    "        except:\n",
    "            print(kraj, da, \" - ERROR\")\n",
    "    #df.to_csv('C:/Users/szymo/Desktop/Nauka/Licencjat/Dane/licencjat dane/poszczegolne/'+ctry+'-data.csv', index=False)\n",
    "    wszy = wszy.append(df, ignore_index=True)\n",
    "print('Liczba bledow:', x)\n",
    "wszy = wszy[['data',\n",
    "         'weekday',\n",
    "         'srednia',\n",
    "         'zmiana',\n",
    "         'country_region',\n",
    "         'retail_and_recreation_percent_change_from_baseline',\n",
    "         'grocery_and_pharmacy_percent_change_from_baseline',\n",
    "         'parks_percent_change_from_baseline',\n",
    "         'transit_stations_percent_change_from_baseline',\n",
    "         'workplaces_percent_change_from_baseline',\n",
    "         'residential_percent_change_from_baseline',\n",
    "         'is_weekend',\n",
    "         'month',\n",
    "         'income']]\n",
    "#wszy.to_csv('C:/Users/szymo/Desktop/Nauka/Licencjat/Dane/licencjat dane/merged.csv', index=False)"
   ]
  }
 ],
 "metadata": {
  "kernelspec": {
   "display_name": "Python 3",
   "language": "python",
   "name": "python3"
  },
  "language_info": {
   "codemirror_mode": {
    "name": "ipython",
    "version": 3
   },
   "file_extension": ".py",
   "mimetype": "text/x-python",
   "name": "python",
   "nbconvert_exporter": "python",
   "pygments_lexer": "ipython3",
   "version": "3.7.9"
  }
 },
 "nbformat": 4,
 "nbformat_minor": 4
}
